{
 "cells": [
  {
   "cell_type": "markdown",
   "metadata": {
    "id": "XL50_PpNhk_X"
   },
   "source": [
    "##### ***Задача. Составить список из первых пяти город миллионников. Напечатать первый и последений город из этого списка.***"
   ]
  },
  {
   "cell_type": "code",
   "execution_count": 3,
   "metadata": {
    "id": "vaSHHKuAhiHg"
   },
   "outputs": [
    {
     "name": "stdout",
     "output_type": "stream",
     "text": [
      "Москва Екатеринбург\n"
     ]
    }
   ],
   "source": [
    "list_cities = [\"Москва\", \"Санкт-Петербург\", \"Новосибирск\", \"Екатеринбург\", \"Казань\"]\n",
    "\n",
    "# TODO с помощью print распечатать первый и последний город из списка\n",
    "print(list_cities[0], list_cities[-1])"
   ]
  },
  {
   "cell_type": "markdown",
   "metadata": {
    "id": "NIwLAKrLgJaD"
   },
   "source": [
    "##### ***Задача. Сделать название городов с заглавной буквы.***\n",
    "\n"
   ]
  },
  {
   "cell_type": "code",
   "execution_count": 9,
   "metadata": {
    "colab": {
     "base_uri": "https://localhost:8080/"
    },
    "id": "RrbpTwmwgJaE",
    "outputId": "6b26c5a5-b4d9-495f-a574-85fc48edd04e"
   },
   "outputs": [
    {
     "name": "stdout",
     "output_type": "stream",
     "text": [
      "['Москва', 'Ижевск', 'Владивосток', 'Новосибирск', 'Мурманск']\n"
     ]
    }
   ],
   "source": [
    "list_cities = [\"москва\", \"иЖЕВСк\", \"Владивосток\", \"новосибирсК\", \"мУРМАНСК\"]\n",
    "\n",
    "new_list_cities = []\n",
    "for city in list_cities:\n",
    "    new_list_cities.append(\n",
    "        city.capitalize())  # todo с помощью метода списка append получить новый список с названиями городов с заглавной буквы\n",
    "\n",
    "print(new_list_cities)  # ожидаемый результат ['Москва', 'Ижевск', 'Владивосток', 'Новосибирск', 'Мурманск']"
   ]
  },
  {
   "cell_type": "markdown",
   "metadata": {
    "id": "HAFR21irgBpG"
   },
   "source": [
    "##### ***Задача. Отфильтровать города с населением больше 1 млн. человек.***\n",
    "\n"
   ]
  },
  {
   "cell_type": "code",
   "execution_count": 13,
   "metadata": {
    "colab": {
     "base_uri": "https://localhost:8080/"
    },
    "id": "Ae_6bDglgMCw",
    "outputId": "786be135-189a-4d7d-9a11-145219f5794c"
   },
   "outputs": [
    {
     "name": "stdout",
     "output_type": "stream",
     "text": [
      "[{'name': 'Москва', 'population': 12000000}, {'name': 'Санкт-Петербург', 'population': 5000000}]\n"
     ]
    }
   ],
   "source": [
    "list_cities = [\n",
    "    {\n",
    "        \"name\": \"Москва\",\n",
    "        \"population\": 12 * 10 ** 6,\n",
    "    },\n",
    "    {\n",
    "        \"name\": \"Санкт-Петербург\",\n",
    "        \"population\": 5 * 10 ** 6,\n",
    "    },\n",
    "    {\n",
    "        \"name\": \"Ижевск\",\n",
    "        \"population\": 0.6 * 10 ** 6,\n",
    "    },\n",
    "]\n",
    "\n",
    "# TODO с помощью цикла for и условия if отфильтровать словари из списка\n",
    "list_cities_filtered = []\n",
    "for city in list_cities:\n",
    "    if city[\"population\"] > 10 ** 6:\n",
    "        list_cities_filtered.append(city)\n",
    "\n",
    "print(list_cities_filtered)\n"
   ]
  },
  {
   "cell_type": "markdown",
   "metadata": {
    "id": "104gDPKbkMGF"
   },
   "source": [
    "##### ***Задача. Найти общие города среди двух групп и отсортировать их в алфавитном порядке.***\n"
   ]
  },
  {
   "cell_type": "code",
   "execution_count": 42,
   "metadata": {
    "id": "SPCFbF7pkM9V"
   },
   "outputs": [
    {
     "name": "stdout",
     "output_type": "stream",
     "text": [
      "['Москва', 'Санкт-Петербург']\n"
     ]
    }
   ],
   "source": [
    "first_group = {\"Москва\", 'Владивосток', \"Санкт-Петербург\"}\n",
    "second_group = {'Новосибирск', \"Ижевск\", \"Санкт-Петербург\", \"Москва\"}\n",
    "\n",
    "# Сначала найти общие города, а затем отсортировать их\n",
    "group = set.intersection(first_group, second_group)\n",
    "print(sorted(group))"
   ]
  },
  {
   "cell_type": "markdown",
   "metadata": {
    "id": "ziIc6kuVnMlV"
   },
   "source": [
    "##### ***Задача. Найти количество упоминаний заданного города.***"
   ]
  },
  {
   "cell_type": "markdown",
   "metadata": {
    "id": "Agk6Y1eznNW7"
   },
   "source": [
    "У списка есть метод `count`, этот метод принимает значение, и считает сколько раз оно содержится в списке.  \n",
    "\n",
    "Написать свою функцию count, которая принимает два аргумента список городов, где нужно искать заданный город.  \n",
    "И искомый город, количество упоминаний которого нужно подсчитать.\n",
    "\n",
    "Результатом должно быть количество вхождений города в списке.\n"
   ]
  },
  {
   "cell_type": "code",
   "execution_count": 55,
   "metadata": {
    "colab": {
     "base_uri": "https://localhost:8080/"
    },
    "id": "w-K1BmXqnq6r",
    "outputId": "b4872882-23c5-4664-af66-04dea658d330"
   },
   "outputs": [
    {
     "name": "stdout",
     "output_type": "stream",
     "text": [
      "Кол-во упоминаний города Санкт-Петербург в списке: 4\n"
     ]
    }
   ],
   "source": [
    "list_cities = [  # список городов\n",
    "    'Новосибирск',\n",
    "    'Владивосток',\n",
    "    'Москва',\n",
    "    'Санкт-Петербург',\n",
    "    'Владивосток',\n",
    "    'Москва',\n",
    "    'Санкт-Петербург',\n",
    "    'Москва',\n",
    "    'Новосибирск',\n",
    "    'Владивосток',\n",
    "    'Ижевск',\n",
    "    'Владивосток',\n",
    "    'Ижевск',\n",
    "    'Санкт-Петербург',\n",
    "    'Владивосток',\n",
    "    'Новосибирск',\n",
    "    'Владивосток',\n",
    "    'Ижевск',\n",
    "    'Москва',\n",
    "    'Санкт-Петербург'\n",
    "]\n",
    "find_city = 'Санкт-Петербург'  # искомый город\n",
    "\n",
    "\n",
    "# написать функцию count, которая будет принимать два аргумента согласно условию\n",
    "def count(cities_list, city_to_find):\n",
    "    city_cnt = 0\n",
    "    for city in cities_list:\n",
    "        if city == city_to_find:\n",
    "            city_cnt += 1\n",
    "\n",
    "    return city_cnt\n",
    "\n",
    "\n",
    "print(f'Кол-во упоминаний города {find_city} в списке: {count(list_cities, find_city)}')"
   ]
  }
 ],
 "metadata": {
  "colab": {
   "provenance": []
  },
  "kernelspec": {
   "display_name": "Python 3",
   "language": "python",
   "name": "python3"
  },
  "language_info": {
   "codemirror_mode": {
    "name": "ipython",
    "version": 3
   },
   "file_extension": ".py",
   "mimetype": "text/x-python",
   "name": "python",
   "nbconvert_exporter": "python",
   "pygments_lexer": "ipython3",
   "version": "3.8.0"
  }
 },
 "nbformat": 4,
 "nbformat_minor": 1
}